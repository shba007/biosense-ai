{
  "cells": [
    {
      "attachments": {},
      "cell_type": "markdown",
      "metadata": {
        "colab_type": "text",
        "id": "view-in-github"
      },
      "source": [
        "<a href=\"https://colab.research.google.com/github/shba007/biosense-ai/blob/feature/check_models.ipynb\" target=\"_parent\"><img src=\"https://colab.research.google.com/assets/colab-badge.svg\" alt=\"Open In Colab\"/></a>"
      ]
    },
    {
      "cell_type": "code",
      "execution_count": null,
      "metadata": {
        "colab": {
          "base_uri": "https://localhost:8080/"
        },
        "id": "AsXIB6Olehkl",
        "outputId": "1d7d55da-4bbd-4ddc-b5dc-5e8f19aa81df"
      },
      "outputs": [],
      "source": [
        "!unzip /content/testMODEL.zip -d testimgs"
      ]
    },
    {
      "cell_type": "code",
      "execution_count": null,
      "metadata": {
        "id": "dcWzots9bxmn"
      },
      "outputs": [],
      "source": [
        "import keras,os\n",
        "from keras.models import Sequential\n",
        "from keras.layers import Dense, Conv2D, MaxPool2D , Flatten\n",
        "from keras.preprocessing.image import ImageDataGenerator\n",
        "import numpy as np\n",
        "from keras import applications\n",
        "import matplotlib.pyplot as plt\n",
        "import keras.utils as image\n",
        "import matplotlib\n",
        "from sklearn.metrics import confusion_matrix,ConfusionMatrixDisplay\n",
        "from keras.models import load_model\n",
        "import pandas as pd"
      ]
    },
    {
      "cell_type": "code",
      "execution_count": null,
      "metadata": {
        "id": "kJKGeaQncFq4"
      },
      "outputs": [],
      "source": [
        "saved_model = load_model(\"/content/indoorplantdiseases_4.h5\")"
      ]
    },
    {
      "cell_type": "code",
      "execution_count": null,
      "metadata": {
        "id": "clAyki-1cQlC"
      },
      "outputs": [],
      "source": [
        "names=[\"Cercospora\",\"FungalLeafSpots\",\"GrayMold\",\"Powdery Mildew\",\"Rust\",\"Sooty Mold\",\"White Mold\",\"anthracnose\",\"bacterialLeafSpot\",\"healthy\"]"
      ]
    },
    {
      "cell_type": "code",
      "execution_count": null,
      "metadata": {
        "id": "0PY2H0lXnmTl"
      },
      "outputs": [],
      "source": [
        "# img = image.load_img(\"/content/download.jpg\",target_size=(224,224))\n",
        "# img = np.asarray(img)\n",
        "# plt.imshow(img)\n",
        "# img = np.expand_dims(img, axis=0)\n",
        "# output = saved_model.predict(img)\n",
        "# print(output)\n",
        "# print(output[0][np.where(output == (np.argmax(output)))[0]])\n",
        "# # if output[0][0] > output[0][1]:\n",
        "# #     print(\"cat\")\n",
        "# # else:\n",
        "# #     print('dog')\n",
        "# print(names[np.argmax(output[0])])"
      ]
    },
    {
      "cell_type": "code",
      "execution_count": null,
      "metadata": {
        "colab": {
          "base_uri": "https://localhost:8080/",
          "height": 521
        },
        "id": "SfILsDPpboOo",
        "outputId": "24d91e01-5b27-4d29-ba91-df9596583f19"
      },
      "outputs": [],
      "source": [
        "#Cercospora\n",
        "img = image.load_img(\"/content/testimgs/Cercospora.jpeg\",target_size=(224,224))\n",
        "img = np.asarray(img)\n",
        "plt.imshow(img)\n",
        "img = np.expand_dims(img, axis=0)\n",
        "output = saved_model.predict(img)\n",
        "print(output)\n",
        "print(output[0][np.where(output == (np.argmax(output)))[0]])\n",
        "# if output[0][0] > output[0][1]:\n",
        "#     print(\"cat\")\n",
        "# else:\n",
        "#     print('dog')\n",
        "print(names[np.argmax(output[0])])"
      ]
    },
    {
      "cell_type": "code",
      "execution_count": null,
      "metadata": {
        "colab": {
          "base_uri": "https://localhost:8080/",
          "height": 503
        },
        "id": "FktxO39JbyuP",
        "outputId": "877f78b1-f491-4a19-a046-f1e2c4e02bb5"
      },
      "outputs": [],
      "source": [
        "#FungalLeafSpots\n",
        "img = image.load_img(\"/content/testimgs/FungalLeafSpots.jpg\",target_size=(224,224))\n",
        "img = np.asarray(img)\n",
        "plt.imshow(img)\n",
        "img = np.expand_dims(img, axis=0)\n",
        "output = saved_model.predict(img)\n",
        "print(output)\n",
        "print(output[0][np.where(output == (np.argmax(output)))[0]])\n",
        "# if output[0][0] > output[0][1]:\n",
        "#     print(\"cat\")\n",
        "# else:\n",
        "#     print('dog')\n",
        "print(names[np.argmax(output[0])])"
      ]
    },
    {
      "cell_type": "code",
      "execution_count": null,
      "metadata": {
        "colab": {
          "base_uri": "https://localhost:8080/",
          "height": 521
        },
        "id": "hcF2oV0mcJG-",
        "outputId": "4cbb94e9-235f-45df-c66a-53e9a61f6496"
      },
      "outputs": [],
      "source": [
        "#GrayMold\n",
        "img = image.load_img(\"/content/testimgs/GrayMold.jpg\",target_size=(224,224))\n",
        "img = np.asarray(img)\n",
        "plt.imshow(img)\n",
        "img = np.expand_dims(img, axis=0)\n",
        "output = saved_model.predict(img)\n",
        "print(output)\n",
        "print(output[0][np.where(output == (np.argmax(output)))[0]])\n",
        "# if output[0][0] > output[0][1]:\n",
        "#     print(\"cat\")\n",
        "# else:\n",
        "#     print('dog')\n",
        "print(names[np.argmax(output[0])])"
      ]
    },
    {
      "cell_type": "code",
      "execution_count": null,
      "metadata": {
        "colab": {
          "base_uri": "https://localhost:8080/",
          "height": 503
        },
        "id": "6Om71aAVcJbA",
        "outputId": "f2901a6f-3769-4801-9b1f-c2ed9d94abe0"
      },
      "outputs": [],
      "source": [
        "#Powdery Mildew\n",
        "img = image.load_img(\"/content/testimgs/Powdery Mildew.jpg\",target_size=(224,224))\n",
        "img = np.asarray(img)\n",
        "plt.imshow(img)\n",
        "img = np.expand_dims(img, axis=0)\n",
        "output = saved_model.predict(img)\n",
        "print(output)\n",
        "print(output[0][np.where(output == (np.argmax(output)))[0]])\n",
        "# if output[0][0] > output[0][1]:\n",
        "#     print(\"cat\")\n",
        "# else:\n",
        "#     print('dog')\n",
        "print(names[np.argmax(output[0])])"
      ]
    },
    {
      "cell_type": "code",
      "execution_count": null,
      "metadata": {
        "colab": {
          "base_uri": "https://localhost:8080/",
          "height": 521
        },
        "id": "j_NPu_llcJoN",
        "outputId": "baca55f5-0994-4a64-d779-265735619171"
      },
      "outputs": [],
      "source": [
        "#Rust\n",
        "img = image.load_img(\"/content/testimgs/Rust.jpg\",target_size=(224,224))\n",
        "img = np.asarray(img)\n",
        "plt.imshow(img)\n",
        "img = np.expand_dims(img, axis=0)\n",
        "output = saved_model.predict(img)\n",
        "print(output)\n",
        "print(output[0][np.where(output == (np.argmax(output)))[0]])\n",
        "# if output[0][0] > output[0][1]:\n",
        "#     print(\"cat\")\n",
        "# else:\n",
        "#     print('dog')\n",
        "print(names[np.argmax(output[0])])"
      ]
    },
    {
      "cell_type": "code",
      "execution_count": null,
      "metadata": {
        "colab": {
          "base_uri": "https://localhost:8080/",
          "height": 503
        },
        "id": "EPBxqgyVcJ0B",
        "outputId": "bb41c0d5-7eb2-47de-aa02-f8c1f8a664d8"
      },
      "outputs": [],
      "source": [
        "#Sooty Mold\n",
        "img = image.load_img(\"/content/testimgs/Sooty Mold.jpg\",target_size=(224,224))\n",
        "img = np.asarray(img)\n",
        "plt.imshow(img)\n",
        "img = np.expand_dims(img, axis=0)\n",
        "output = saved_model.predict(img)\n",
        "print(output)\n",
        "print(output[0][np.where(output == (np.argmax(output)))[0]])\n",
        "# if output[0][0] > output[0][1]:\n",
        "#     print(\"cat\")\n",
        "# else:\n",
        "#     print('dog')\n",
        "print(names[np.argmax(output[0])])"
      ]
    },
    {
      "cell_type": "code",
      "execution_count": null,
      "metadata": {
        "colab": {
          "base_uri": "https://localhost:8080/",
          "height": 521
        },
        "id": "oWm7aTHrcJ__",
        "outputId": "58bde2df-6668-4f61-8e16-57d4a29253fd"
      },
      "outputs": [],
      "source": [
        "#White Mold\n",
        "img = image.load_img(\"/content/testimgs/White Mold\",target_size=(224,224))\n",
        "img = np.asarray(img)\n",
        "plt.imshow(img)\n",
        "img = np.expand_dims(img, axis=0)\n",
        "output = saved_model.predict(img)\n",
        "print(output)\n",
        "print(output[0][np.where(output == (np.argmax(output)))[0]])\n",
        "# if output[0][0] > output[0][1]:\n",
        "#     print(\"cat\")\n",
        "# else:\n",
        "#     print('dog')\n",
        "print(names[np.argmax(output[0])])"
      ]
    },
    {
      "cell_type": "code",
      "execution_count": null,
      "metadata": {
        "colab": {
          "base_uri": "https://localhost:8080/",
          "height": 521
        },
        "id": "agiwXD74cKK5",
        "outputId": "b46468c4-91f4-4034-d820-e8d207e4a180"
      },
      "outputs": [],
      "source": [
        "#anthracnose\n",
        "img = image.load_img(\"/content/testimgs/anthracnose.jpg\",target_size=(224,224))\n",
        "img = np.asarray(img)\n",
        "plt.imshow(img)\n",
        "img = np.expand_dims(img, axis=0)\n",
        "output = saved_model.predict(img)\n",
        "print(output)\n",
        "print(output[0][np.where(output == (np.argmax(output)))[0]])\n",
        "# if output[0][0] > output[0][1]:\n",
        "#     print(\"cat\")\n",
        "# else:\n",
        "#     print('dog')\n",
        "print(names[np.argmax(output[0])])"
      ]
    },
    {
      "cell_type": "code",
      "execution_count": null,
      "metadata": {
        "colab": {
          "base_uri": "https://localhost:8080/",
          "height": 521
        },
        "id": "SDf1OhfocKV5",
        "outputId": "e9b9247e-5b5e-4273-985a-696eb29e92da"
      },
      "outputs": [],
      "source": [
        "#bacterialLeafSpot\n",
        "img = image.load_img(\"/content/testimgs/bacterialLeafSpot\",target_size=(224,224))\n",
        "img = np.asarray(img)\n",
        "plt.imshow(img)\n",
        "img = np.expand_dims(img, axis=0)\n",
        "output = saved_model.predict(img)\n",
        "print(output)\n",
        "print(output[0][np.where(output == (np.argmax(output)))[0]])\n",
        "# if output[0][0] > output[0][1]:\n",
        "#     print(\"cat\")\n",
        "# else:\n",
        "#     print('dog')\n",
        "print(names[np.argmax(output[0])])"
      ]
    },
    {
      "cell_type": "code",
      "execution_count": null,
      "metadata": {
        "colab": {
          "base_uri": "https://localhost:8080/",
          "height": 503
        },
        "id": "4pDzLIVkcKhF",
        "outputId": "d4683cde-dacf-4294-9d4d-a1799941e9c8"
      },
      "outputs": [],
      "source": [
        "#healthy\n",
        "img = image.load_img(\"/content/testimgs/healthy.jpg\",target_size=(224,224))\n",
        "img = np.asarray(img)\n",
        "plt.imshow(img)\n",
        "img = np.expand_dims(img, axis=0)\n",
        "output = saved_model.predict(img)\n",
        "print(output)\n",
        "print(output[0][np.where(output == (np.argmax(output)))[0]])\n",
        "# if output[0][0] > output[0][1]:\n",
        "#     print(\"cat\")\n",
        "# else:\n",
        "#     print('dog')\n",
        "print(names[np.argmax(output[0])])"
      ]
    }
  ],
  "metadata": {
    "colab": {
      "authorship_tag": "ABX9TyP/Q/xrfixyC/anZynqFlpH",
      "include_colab_link": true,
      "provenance": []
    },
    "kernelspec": {
      "display_name": "Python 3",
      "name": "python3"
    },
    "language_info": {
      "name": "python"
    }
  },
  "nbformat": 4,
  "nbformat_minor": 0
}
