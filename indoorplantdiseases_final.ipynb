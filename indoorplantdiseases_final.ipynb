{
  "cells": [
    {
      "attachments": {},
      "cell_type": "markdown",
      "metadata": {
        "colab_type": "text",
        "id": "view-in-github"
      },
      "source": [
        "<a href=\"https://colab.research.google.com/github/shba007/biosense-ai/blob/feature/indoorplantdiseases_final.ipynb\" target=\"_parent\"><img src=\"https://colab.research.google.com/assets/colab-badge.svg\" alt=\"Open In Colab\"/></a>"
      ]
    },
    {
      "cell_type": "code",
      "execution_count": null,
      "metadata": {
        "id": "qCIKZQWBC88h"
      },
      "outputs": [],
      "source": [
        "#credit to https://www.kaggle.com/code/sureshmecad/fruit-images-for-object-detection/notebook"
      ]
    },
    {
      "cell_type": "code",
      "execution_count": null,
      "metadata": {
        "id": "1mppi1pN56jh"
      },
      "outputs": [],
      "source": [
        "#editHERE\n",
        "!unzip /content/indoorplantdiseases.zip -d indoorplantdiseases"
      ]
    },
    {
      "cell_type": "code",
      "execution_count": null,
      "metadata": {
        "id": "eJIEgJeuU4pq"
      },
      "outputs": [],
      "source": [
        "import keras,os\n",
        "from keras.models import Sequential\n",
        "from keras.layers import Dense, Conv2D, MaxPool2D , Flatten\n",
        "from keras.preprocessing.image import ImageDataGenerator\n",
        "import numpy as np\n",
        "from keras import applications"
      ]
    },
    {
      "cell_type": "code",
      "execution_count": null,
      "metadata": {
        "id": "7P8VcVtZ_wZz"
      },
      "outputs": [],
      "source": [
        "all_img=os.mkdir(\"/content/all_images\")\n",
        "train=os.mkdir(\"/content/train\")\n",
        "test=os.mkdir(\"/content/test\")\n",
        "val=os.mkdir(\"/content/val\")"
      ]
    },
    {
      "cell_type": "code",
      "execution_count": null,
      "metadata": {
        "id": "AmcIyqZ_6fYS"
      },
      "outputs": [],
      "source": [
        "# import shutil\n",
        "\n",
        "# path = '/content/catdogchick'\n",
        "# i = 0\n",
        "\n",
        "# for foldername in os.listdir(path):\n",
        "#   for filename in os.listdir(os.path.join(path,foldername)):\n",
        "#       print(os.path.join(path,foldername,filename))\n",
        "#       os.rename(os.path.join(path,foldername,filename), os.path.join(foldername+\"_\"+str(i)+'.jpg'))\n",
        "#       shutil.move(os.path.join(foldername+\"_\"+str(i)+'.jpg'), \"/content/all_images\")\n",
        "#       i = i +1"
      ]
    },
    {
      "cell_type": "code",
      "execution_count": null,
      "metadata": {
        "colab": {
          "base_uri": "https://localhost:8080/"
        },
        "id": "efX_mnQoLVeL",
        "outputId": "c92f6104-8208-4a5d-b728-7b4541919f27"
      },
      "outputs": [],
      "source": [
        "import os\n",
        "import random\n",
        "import shutil\n",
        "\n",
        "names=[]\n",
        "\n",
        "class Target:\n",
        "    def __init__(self, target_path: str, ratio: int, number_of_source_files: int):\n",
        "        self._target_path = target_path\n",
        "        self._max = int(number_of_source_files / 100 * ratio)\n",
        "        self._counter = 0\n",
        "\n",
        "    @property\n",
        "    def target_path(self):\n",
        "        self._counter += 1\n",
        "        return self._target_path\n",
        "\n",
        "    def is_maxed_out(self):\n",
        "        return True if self._counter >= self._max else False\n",
        "\n",
        "\n",
        "def get_random_target(target_list):\n",
        "    if len(target_list) > 0:\n",
        "        return random.choice(target_list)\n",
        "    else:\n",
        "        print(target_list)\n",
        "        # return random.choice([validation, testing, training])\n",
        "\n",
        "ratio_train=0.8\n",
        "ratio_val=0\n",
        "ratio_test=0.2\n",
        "\n",
        "def placeimg(folder_path,name):\n",
        "  path_source = folder_path\n",
        "  os.mkdir(os.path.join('/content/val',name))\n",
        "  os.mkdir(os.path.join('/content/test',name))\n",
        "  os.mkdir(os.path.join('/content/train',name))\n",
        "  source_file_list = os.listdir(path_source)\n",
        "  testing = Target(repr(os.path.join('/content/test',name))[1:-1], 100*ratio_test, len(source_file_list))\n",
        "  validation = Target(repr(os.path.join('/content/val',name))[1:-1], 100*ratio_val, len(source_file_list))\n",
        "  training = Target(repr(os.path.join('/content/train',name))[1:-1], 100*ratio_train, len(source_file_list))\n",
        "\n",
        "  targets = [validation, testing, training]\n",
        "  for source_file in source_file_list:\n",
        "      target = get_random_target(targets)\n",
        "      if not target== None:\n",
        "          shutil.move(os.path.join(path_source, source_file), target.target_path)\n",
        "          for target in targets:\n",
        "              if target.is_maxed_out():\n",
        "                  targets.remove(target)\n",
        "\n",
        "#editHERE\n",
        "names=[\"Cercospora\",\"FungalLeafSpots\",\"GrayMold\",\"Powdery Mildew\",\"Rust\",\"Sooty Mold\",\"White Mold\",\"anthracnose\",\"bacterialLeafSpot\",\"healthy\"]\n",
        "\n",
        "#editHERE\n",
        "placeimg(r'/content/indoorplantdiseases/Cercospora',\"Cercospora\")\n",
        "placeimg(r'/content/indoorplantdiseases/FungalLeafSpots',\"FungalLeafSpots\")\n",
        "placeimg(r'/content/indoorplantdiseases/GrayMold',\"GrayMold\")\n",
        "placeimg(r'/content/indoorplantdiseases/Powdery Mildew',\"Powdery Mildew\")\n",
        "placeimg(r'/content/indoorplantdiseases/Rust',\"Rust\")\n",
        "placeimg(r'/content/indoorplantdiseases/Sooty Mold',\"Sooty Mold\")\n",
        "placeimg(r'/content/indoorplantdiseases/White Mold',\"White Mold\")\n",
        "placeimg(r'/content/indoorplantdiseases/anthracnose',\"anthracnose\")\n",
        "placeimg(r'/content/indoorplantdiseases/bacterialLeafSpot',\"bacterialLeafSpot\")\n",
        "placeimg(r'/content/indoorplantdiseases/healthy',\"healthy\")\n",
        "\n",
        "# def placeimg(folder_path,name):\n",
        "#   path_source = folder_path\n",
        "#   source_file_list = os.listdir(path_source)\n",
        "#   validation = Target(r'/content/val', 100*ratio_val, len(source_file_list))\n",
        "#   testing = Target(r'/content/test', 100*ratio_test, len(source_file_list))\n",
        "#   training = Target(r'/content/train', 100*ratio_train, len(source_file_list))\n",
        "\n",
        "#   targets = [validation, testing, training]\n",
        "#   for source_file in source_file_list:\n",
        "#       target = get_random_target(targets)\n",
        "#       shutil.move(os.path.join(path_source, source_file), target.target_path)\n",
        "#       for target in targets:\n",
        "#           if target.is_maxed_out():\n",
        "#               targets.remove(target)\n",
        "# placeimg(r\"/content/all_images\",\"cat\")"
      ]
    },
    {
      "cell_type": "code",
      "execution_count": null,
      "metadata": {
        "colab": {
          "base_uri": "https://localhost:8080/"
        },
        "id": "uiOgNZpuU5C-",
        "outputId": "015c6aa3-2800-4904-c44d-bb83193c2531"
      },
      "outputs": [],
      "source": [
        "trdata = ImageDataGenerator(\n",
        "    rescale=1./255,\n",
        "    shear_range=0.2,\n",
        "    zoom_range=0.2,\n",
        "    horizontal_flip=True\n",
        ")\n",
        "traindata = trdata.flow_from_directory(directory=\"/content/train\",target_size=(224,224))\n",
        "tsdata = ImageDataGenerator(rescale=1./255)\n",
        "testdata = tsdata.flow_from_directory(directory=\"/content/test\", target_size=(224,224))"
      ]
    },
    {
      "cell_type": "code",
      "execution_count": null,
      "metadata": {
        "colab": {
          "base_uri": "https://localhost:8080/"
        },
        "id": "46G8lpZDXZJg",
        "outputId": "f7d518ce-f7ac-434b-8222-7dc68dbe0559"
      },
      "outputs": [],
      "source": [
        "# VGG=keras.applications.VGG16(input_shape=(224,224,3),include_top=False,weights=\"imagenet\")\n",
        "# VGG.trainable=False\n",
        "from keras.applications import VGG16\n",
        "from keras.layers import Dropout\n",
        "from keras.models import Model\n",
        "\n",
        "VGG = VGG16(input_shape=(224,224,3),include_top=False,weights=\"imagenet\")\n",
        "VGG.trainable=False\n",
        "\n",
        "# Store the fully connected layers\n",
        "fc1 = VGG.layers[-3]\n",
        "fc2 = VGG.layers[-2]\n",
        "predictions = VGG.layers[-1]\n",
        "\n",
        "# Create the dropout layers\n",
        "dropout1 = Dropout(0.5)\n",
        "dropout2 = Dropout(0.5)\n",
        "\n",
        "# Reconnect the layers\n",
        "x = dropout1(fc1.output)\n",
        "x = fc2(x)\n",
        "x = dropout2(x)\n",
        "predictors = predictions(x)\n",
        "\n",
        "# Create a new model\n",
        "VGG = Model(inputs=VGG.input, outputs=predictors)"
      ]
    },
    {
      "cell_type": "code",
      "execution_count": null,
      "metadata": {
        "id": "PUcfWHNXXsmP"
      },
      "outputs": [],
      "source": [
        "model = Sequential([\n",
        "    VGG,\n",
        "    Flatten(),\n",
        "    # Dense(units=256,activation=\"relu\"),\n",
        "    # Dense(units=256,activation=\"relu\"),\n",
        "    #editHERE\n",
        "    Dense(units=10,activation=\"softmax\")\n",
        "])\n",
        "model.compile(optimizer='adam',loss=keras.losses.categorical_crossentropy,metrics=['accuracy'])"
      ]
    },
    {
      "cell_type": "code",
      "execution_count": null,
      "metadata": {
        "colab": {
          "base_uri": "https://localhost:8080/"
        },
        "id": "4QPp3HZVY9RX",
        "outputId": "9eaa1c83-2f30-4691-924e-bd4b864ca370"
      },
      "outputs": [],
      "source": [
        "model.summary()"
      ]
    },
    {
      "cell_type": "code",
      "execution_count": null,
      "metadata": {
        "colab": {
          "base_uri": "https://localhost:8080/"
        },
        "id": "M5qcry06ZCiw",
        "outputId": "482ce155-d283-4ab4-eab4-c602a22bce77"
      },
      "outputs": [],
      "source": [
        "#editHERE\n",
        "steps_per_epoch= (752+321)//64\n",
        "\n",
        "# hist=model.fit_generator(steps_per_epoch=steps_per_epoch,generator=traindata,validation_data=testdata,validation_steps=10,epochs=5)\n",
        "hist=model.fit_generator(generator=traindata,validation_data=testdata,epochs=100)\n",
        "#editHERE\n",
        "model.save(\"indoorplantdiseases.h5\")"
      ]
    },
    {
      "cell_type": "code",
      "execution_count": null,
      "metadata": {
        "id": "B2sxzoKLKoRX"
      },
      "outputs": [],
      "source": [
        "import matplotlib.pyplot as plt\n",
        "import keras.utils as image\n",
        "import matplotlib\n",
        "from sklearn.metrics import confusion_matrix,ConfusionMatrixDisplay\n",
        "from keras.models import load_model\n",
        "import pandas as pd\n",
        "#editHERE\n",
        "saved_model = load_model(\"indoorplantdiseases.h5\")"
      ]
    },
    {
      "cell_type": "code",
      "execution_count": null,
      "metadata": {
        "colab": {
          "base_uri": "https://localhost:8080/",
          "height": 472
        },
        "id": "G56zH2d4zia0",
        "outputId": "96c3ec7f-e88c-4d3d-989b-bbb9c7b21313"
      },
      "outputs": [],
      "source": [
        "plt.plot(hist.history[\"accuracy\"])\n",
        "plt.plot(hist.history['val_accuracy'])\n",
        "plt.plot(hist.history['loss'])\n",
        "plt.plot(hist.history['val_loss'])\n",
        "plt.title(\"model accuracy\")\n",
        "plt.ylabel(\"Accuracy\")\n",
        "plt.xlabel(\"Epoch\")\n",
        "plt.legend([\"Accuracy\",\"Validation Accuracy\",\"loss\",\"Validation Loss\"])\n",
        "plt.show()"
      ]
    },
    {
      "cell_type": "code",
      "execution_count": null,
      "metadata": {
        "colab": {
          "base_uri": "https://localhost:8080/",
          "height": 420
        },
        "id": "_zFDp6i8zxN5",
        "outputId": "eb016ca9-86dc-46de-aee8-c3fdce56a5ba"
      },
      "outputs": [],
      "source": [
        "img = image.load_img(\"/content/download (1).jpg\",target_size=(224,224))\n",
        "img = np.asarray(img)\n",
        "plt.imshow(img)\n",
        "img = np.expand_dims(img, axis=0)\n",
        "output = saved_model.predict(img)\n",
        "print(output)\n",
        "print(output[0][np.where(output == (np.argmax(output)))[0]])\n",
        "# if output[0][0] > output[0][1]:\n",
        "#     print(\"cat\")\n",
        "# else:\n",
        "#     print('dog')\n",
        "print(names[np.argmax(output[0])])\n"
      ]
    },
    {
      "cell_type": "code",
      "execution_count": null,
      "metadata": {
        "id": "Lnie1l_4HaD-"
      },
      "outputs": [],
      "source": [
        "probabilities = saved_model.predict_generator(generator=testdata)\n",
        "probabilities[1]"
      ]
    },
    {
      "cell_type": "code",
      "execution_count": null,
      "metadata": {
        "id": "aecwN-LB9vZK"
      },
      "outputs": [],
      "source": [
        "test_labels=testdata[0][1]\n",
        "len(test_labels[1])"
      ]
    },
    {
      "cell_type": "code",
      "execution_count": null,
      "metadata": {
        "id": "zWZEbaSwE54d"
      },
      "outputs": [],
      "source": [
        "rounded_labels=np.argmax(test_labels, axis=1)\n",
        "rounded_labels[1]\n",
        "rounded_labels\n",
        "# test_labels=pd.get_dummies(test_labels, columns = names)"
      ]
    },
    {
      "cell_type": "code",
      "execution_count": null,
      "metadata": {
        "id": "oXXBkvf3y_SR"
      },
      "outputs": [],
      "source": [
        "# rounded_predictions = saved_model.predict_classes(test_images, batch_size=128, verbose=0)\n",
        "predictions = (saved_model.predict(testdata) > 0.5).astype(\"int32\")\n",
        "predictions=np.argmax(predictions, axis=1)\n",
        "predictions"
      ]
    },
    {
      "cell_type": "code",
      "execution_count": null,
      "metadata": {
        "id": "pqW3THWGzIRo"
      },
      "outputs": [],
      "source": [
        "cm = confusion_matrix(rounded_labels, predictions[:len(rounded_labels)])\n",
        "cm"
      ]
    }
  ],
  "metadata": {
    "accelerator": "GPU",
    "colab": {
      "gpuType": "T4",
      "include_colab_link": true,
      "provenance": []
    },
    "kernelspec": {
      "display_name": "Python 3",
      "name": "python3"
    },
    "language_info": {
      "name": "python"
    }
  },
  "nbformat": 4,
  "nbformat_minor": 0
}
