{
  "nbformat": 4,
  "nbformat_minor": 0,
  "metadata": {
    "colab": {
      "provenance": [],
      "gpuType": "T4",
      "include_colab_link": true
    },
    "kernelspec": {
      "name": "python3",
      "display_name": "Python 3"
    },
    "language_info": {
      "name": "python"
    },
    "accelerator": "GPU"
  },
  "cells": [
    {
      "cell_type": "markdown",
      "metadata": {
        "id": "view-in-github",
        "colab_type": "text"
      },
      "source": [
        "<a href=\"https://colab.research.google.com/github/shba007/biosense-ai/blob/feature/indoorplantdiseases_final.ipynb\" target=\"_parent\"><img src=\"https://colab.research.google.com/assets/colab-badge.svg\" alt=\"Open In Colab\"/></a>"
      ]
    },
    {
      "cell_type": "code",
      "source": [
        "#credit to https://www.kaggle.com/code/sureshmecad/fruit-images-for-object-detection/notebook"
      ],
      "metadata": {
        "id": "qCIKZQWBC88h"
      },
      "execution_count": 1,
      "outputs": []
    },
    {
      "cell_type": "code",
      "execution_count": null,
      "metadata": {
        "id": "1mppi1pN56jh"
      },
      "outputs": [],
      "source": [
        "#editHERE\n",
        "!unzip /content/indoorplantdiseases.zip -d indoorplantdiseases"
      ]
    },
    {
      "cell_type": "code",
      "source": [
        "import keras,os\n",
        "from keras.models import Sequential\n",
        "from keras.layers import Dense, Conv2D, MaxPool2D , Flatten\n",
        "from keras.preprocessing.image import ImageDataGenerator\n",
        "import numpy as np\n",
        "from keras import applications"
      ],
      "metadata": {
        "id": "eJIEgJeuU4pq"
      },
      "execution_count": 3,
      "outputs": []
    },
    {
      "cell_type": "code",
      "source": [
        "all_img=os.mkdir(\"/content/all_images\")\n",
        "train=os.mkdir(\"/content/train\")\n",
        "test=os.mkdir(\"/content/test\")\n",
        "val=os.mkdir(\"/content/val\")"
      ],
      "metadata": {
        "id": "7P8VcVtZ_wZz"
      },
      "execution_count": 4,
      "outputs": []
    },
    {
      "cell_type": "code",
      "source": [
        "# import shutil\n",
        "\n",
        "# path = '/content/catdogchick'\n",
        "# i = 0\n",
        "\n",
        "# for foldername in os.listdir(path):\n",
        "#   for filename in os.listdir(os.path.join(path,foldername)):\n",
        "#       print(os.path.join(path,foldername,filename))\n",
        "#       os.rename(os.path.join(path,foldername,filename), os.path.join(foldername+\"_\"+str(i)+'.jpg'))\n",
        "#       shutil.move(os.path.join(foldername+\"_\"+str(i)+'.jpg'), \"/content/all_images\")\n",
        "#       i = i +1"
      ],
      "metadata": {
        "id": "AmcIyqZ_6fYS"
      },
      "execution_count": 5,
      "outputs": []
    },
    {
      "cell_type": "code",
      "source": [
        "import os\n",
        "import random\n",
        "import shutil\n",
        "\n",
        "names=[]\n",
        "\n",
        "class Target:\n",
        "    def __init__(self, target_path: str, ratio: int, number_of_source_files: int):\n",
        "        self._target_path = target_path\n",
        "        self._max = int(number_of_source_files / 100 * ratio)\n",
        "        self._counter = 0\n",
        "\n",
        "    @property\n",
        "    def target_path(self):\n",
        "        self._counter += 1\n",
        "        return self._target_path\n",
        "\n",
        "    def is_maxed_out(self):\n",
        "        return True if self._counter >= self._max else False\n",
        "\n",
        "\n",
        "def get_random_target(target_list):\n",
        "    if len(target_list) > 0:\n",
        "        return random.choice(target_list)\n",
        "    else:\n",
        "        print(target_list)\n",
        "        # return random.choice([validation, testing, training])\n",
        "\n",
        "ratio_train=0.8\n",
        "ratio_val=0\n",
        "ratio_test=0.2\n",
        "\n",
        "def placeimg(folder_path,name):\n",
        "  path_source = folder_path\n",
        "  os.mkdir(os.path.join('/content/val',name))\n",
        "  os.mkdir(os.path.join('/content/test',name))\n",
        "  os.mkdir(os.path.join('/content/train',name))\n",
        "  source_file_list = os.listdir(path_source)\n",
        "  testing = Target(repr(os.path.join('/content/test',name))[1:-1], 100*ratio_test, len(source_file_list))\n",
        "  validation = Target(repr(os.path.join('/content/val',name))[1:-1], 100*ratio_val, len(source_file_list))\n",
        "  training = Target(repr(os.path.join('/content/train',name))[1:-1], 100*ratio_train, len(source_file_list))\n",
        "\n",
        "  targets = [validation, testing, training]\n",
        "  for source_file in source_file_list:\n",
        "      target = get_random_target(targets)\n",
        "      if not target== None:\n",
        "          shutil.move(os.path.join(path_source, source_file), target.target_path)\n",
        "          for target in targets:\n",
        "              if target.is_maxed_out():\n",
        "                  targets.remove(target)\n",
        "\n",
        "#editHERE\n",
        "names=[\"Cercospora\",\"FungalLeafSpots\",\"GrayMold\",\"Powdery Mildew\",\"Rust\",\"Sooty Mold\",\"White Mold\",\"anthracnose\",\"bacterialLeafSpot\",\"healthy\"]\n",
        "\n",
        "#editHERE\n",
        "placeimg(r'/content/indoorplantdiseases/Cercospora',\"Cercospora\")\n",
        "placeimg(r'/content/indoorplantdiseases/FungalLeafSpots',\"FungalLeafSpots\")\n",
        "placeimg(r'/content/indoorplantdiseases/GrayMold',\"GrayMold\")\n",
        "placeimg(r'/content/indoorplantdiseases/Powdery Mildew',\"Powdery Mildew\")\n",
        "placeimg(r'/content/indoorplantdiseases/Rust',\"Rust\")\n",
        "placeimg(r'/content/indoorplantdiseases/Sooty Mold',\"Sooty Mold\")\n",
        "placeimg(r'/content/indoorplantdiseases/White Mold',\"White Mold\")\n",
        "placeimg(r'/content/indoorplantdiseases/anthracnose',\"anthracnose\")\n",
        "placeimg(r'/content/indoorplantdiseases/bacterialLeafSpot',\"bacterialLeafSpot\")\n",
        "placeimg(r'/content/indoorplantdiseases/healthy',\"healthy\")\n",
        "\n",
        "# def placeimg(folder_path,name):\n",
        "#   path_source = folder_path\n",
        "#   source_file_list = os.listdir(path_source)\n",
        "#   validation = Target(r'/content/val', 100*ratio_val, len(source_file_list))\n",
        "#   testing = Target(r'/content/test', 100*ratio_test, len(source_file_list))\n",
        "#   training = Target(r'/content/train', 100*ratio_train, len(source_file_list))\n",
        "\n",
        "#   targets = [validation, testing, training]\n",
        "#   for source_file in source_file_list:\n",
        "#       target = get_random_target(targets)\n",
        "#       shutil.move(os.path.join(path_source, source_file), target.target_path)\n",
        "#       for target in targets:\n",
        "#           if target.is_maxed_out():\n",
        "#               targets.remove(target)\n",
        "# placeimg(r\"/content/all_images\",\"cat\")"
      ],
      "metadata": {
        "id": "efX_mnQoLVeL",
        "colab": {
          "base_uri": "https://localhost:8080/"
        },
        "outputId": "c92f6104-8208-4a5d-b728-7b4541919f27"
      },
      "execution_count": 6,
      "outputs": [
        {
          "output_type": "stream",
          "name": "stdout",
          "text": [
            "[]\n",
            "[]\n",
            "[]\n"
          ]
        }
      ]
    },
    {
      "cell_type": "code",
      "source": [
        "trdata = ImageDataGenerator(\n",
        "    rescale=1./255,\n",
        "    shear_range=0.2,\n",
        "    zoom_range=0.2,\n",
        "    horizontal_flip=True\n",
        ")\n",
        "traindata = trdata.flow_from_directory(directory=\"/content/train\",target_size=(224,224))\n",
        "tsdata = ImageDataGenerator(rescale=1./255)\n",
        "testdata = tsdata.flow_from_directory(directory=\"/content/test\", target_size=(224,224))"
      ],
      "metadata": {
        "colab": {
          "base_uri": "https://localhost:8080/"
        },
        "id": "uiOgNZpuU5C-",
        "outputId": "015c6aa3-2800-4904-c44d-bb83193c2531"
      },
      "execution_count": 7,
      "outputs": [
        {
          "output_type": "stream",
          "name": "stdout",
          "text": [
            "Found 861 images belonging to 10 classes.\n",
            "Found 214 images belonging to 10 classes.\n"
          ]
        }
      ]
    },
    {
      "cell_type": "code",
      "source": [
        "# VGG=keras.applications.VGG16(input_shape=(224,224,3),include_top=False,weights=\"imagenet\")\n",
        "# VGG.trainable=False\n",
        "from keras.applications import VGG16\n",
        "from keras.layers import Dropout\n",
        "from keras.models import Model\n",
        "\n",
        "VGG = VGG16(input_shape=(224,224,3),include_top=False,weights=\"imagenet\")\n",
        "VGG.trainable=False\n",
        "\n",
        "# Store the fully connected layers\n",
        "fc1 = VGG.layers[-3]\n",
        "fc2 = VGG.layers[-2]\n",
        "predictions = VGG.layers[-1]\n",
        "\n",
        "# Create the dropout layers\n",
        "dropout1 = Dropout(0.5)\n",
        "dropout2 = Dropout(0.5)\n",
        "\n",
        "# Reconnect the layers\n",
        "x = dropout1(fc1.output)\n",
        "x = fc2(x)\n",
        "x = dropout2(x)\n",
        "predictors = predictions(x)\n",
        "\n",
        "# Create a new model\n",
        "VGG = Model(inputs=VGG.input, outputs=predictors)"
      ],
      "metadata": {
        "id": "46G8lpZDXZJg",
        "colab": {
          "base_uri": "https://localhost:8080/"
        },
        "outputId": "f7d518ce-f7ac-434b-8222-7dc68dbe0559"
      },
      "execution_count": 8,
      "outputs": [
        {
          "output_type": "stream",
          "name": "stdout",
          "text": [
            "Downloading data from https://storage.googleapis.com/tensorflow/keras-applications/vgg16/vgg16_weights_tf_dim_ordering_tf_kernels_notop.h5\n",
            "58889256/58889256 [==============================] - 3s 0us/step\n"
          ]
        }
      ]
    },
    {
      "cell_type": "code",
      "source": [
        "model = Sequential([\n",
        "    VGG,\n",
        "    Flatten(),\n",
        "    # Dense(units=256,activation=\"relu\"),\n",
        "    # Dense(units=256,activation=\"relu\"),\n",
        "    #editHERE\n",
        "    Dense(units=10,activation=\"softmax\")\n",
        "])\n",
        "model.compile(optimizer='adam',loss=keras.losses.categorical_crossentropy,metrics=['accuracy'])"
      ],
      "metadata": {
        "id": "PUcfWHNXXsmP"
      },
      "execution_count": 9,
      "outputs": []
    },
    {
      "cell_type": "code",
      "source": [
        "model.summary()"
      ],
      "metadata": {
        "colab": {
          "base_uri": "https://localhost:8080/"
        },
        "id": "4QPp3HZVY9RX",
        "outputId": "9eaa1c83-2f30-4691-924e-bd4b864ca370"
      },
      "execution_count": 10,
      "outputs": [
        {
          "output_type": "stream",
          "name": "stdout",
          "text": [
            "Model: \"sequential\"\n",
            "_________________________________________________________________\n",
            " Layer (type)                Output Shape              Param #   \n",
            "=================================================================\n",
            " model (Functional)          (None, 7, 7, 512)         14714688  \n",
            "                                                                 \n",
            " flatten (Flatten)           (None, 25088)             0         \n",
            "                                                                 \n",
            " dense (Dense)               (None, 10)                250890    \n",
            "                                                                 \n",
            "=================================================================\n",
            "Total params: 14,965,578\n",
            "Trainable params: 250,890\n",
            "Non-trainable params: 14,714,688\n",
            "_________________________________________________________________\n"
          ]
        }
      ]
    },
    {
      "cell_type": "code",
      "source": [
        "#editHERE\n",
        "steps_per_epoch= (752+321)//64\n",
        "\n",
        "# hist=model.fit_generator(steps_per_epoch=steps_per_epoch,generator=traindata,validation_data=testdata,validation_steps=10,epochs=5)\n",
        "hist=model.fit_generator(generator=traindata,validation_data=testdata,epochs=100)\n",
        "#editHERE\n",
        "model.save(\"indoorplantdiseases.h5\")"
      ],
      "metadata": {
        "id": "M5qcry06ZCiw",
        "colab": {
          "base_uri": "https://localhost:8080/"
        },
        "outputId": "482ce155-d283-4ab4-eab4-c602a22bce77"
      },
      "execution_count": 11,
      "outputs": [
        {
          "output_type": "stream",
          "name": "stderr",
          "text": [
            "<ipython-input-11-b1f0c29a3ec3>:5: UserWarning: `Model.fit_generator` is deprecated and will be removed in a future version. Please use `Model.fit`, which supports generators.\n",
            "  hist=model.fit_generator(generator=traindata,validation_data=testdata,epochs=100)\n",
            "/usr/local/lib/python3.10/dist-packages/PIL/Image.py:996: UserWarning: Palette images with Transparency expressed in bytes should be converted to RGBA images\n",
            "  warnings.warn(\n"
          ]
        },
        {
          "output_type": "stream",
          "name": "stdout",
          "text": [
            "Epoch 1/100\n",
            "27/27 [==============================] - 42s 1s/step - loss: 5.8045 - accuracy: 0.1370 - val_loss: 2.4390 - val_accuracy: 0.2196\n",
            "Epoch 2/100\n",
            "27/27 [==============================] - 23s 848ms/step - loss: 2.4968 - accuracy: 0.3391 - val_loss: 2.2821 - val_accuracy: 0.2336\n",
            "Epoch 3/100\n",
            "27/27 [==============================] - 22s 794ms/step - loss: 1.9088 - accuracy: 0.4111 - val_loss: 2.1518 - val_accuracy: 0.3224\n",
            "Epoch 4/100\n",
            "27/27 [==============================] - 23s 861ms/step - loss: 1.6225 - accuracy: 0.4820 - val_loss: 2.2105 - val_accuracy: 0.2850\n",
            "Epoch 5/100\n",
            "27/27 [==============================] - 23s 863ms/step - loss: 1.5371 - accuracy: 0.5552 - val_loss: 2.1918 - val_accuracy: 0.3645\n",
            "Epoch 6/100\n",
            "27/27 [==============================] - 23s 862ms/step - loss: 1.4788 - accuracy: 0.5505 - val_loss: 2.1980 - val_accuracy: 0.3458\n",
            "Epoch 7/100\n",
            "27/27 [==============================] - 24s 911ms/step - loss: 1.2999 - accuracy: 0.6074 - val_loss: 2.1574 - val_accuracy: 0.3832\n",
            "Epoch 8/100\n",
            "27/27 [==============================] - 23s 864ms/step - loss: 1.3460 - accuracy: 0.5912 - val_loss: 2.1573 - val_accuracy: 0.3458\n",
            "Epoch 9/100\n",
            "27/27 [==============================] - 22s 831ms/step - loss: 1.3787 - accuracy: 0.6005 - val_loss: 2.1293 - val_accuracy: 0.4112\n",
            "Epoch 10/100\n",
            "27/27 [==============================] - 23s 847ms/step - loss: 1.2974 - accuracy: 0.6388 - val_loss: 2.1953 - val_accuracy: 0.3879\n",
            "Epoch 11/100\n",
            "27/27 [==============================] - 23s 849ms/step - loss: 1.2566 - accuracy: 0.6295 - val_loss: 2.1161 - val_accuracy: 0.3692\n",
            "Epoch 12/100\n",
            "27/27 [==============================] - 23s 841ms/step - loss: 1.1646 - accuracy: 0.6504 - val_loss: 2.3095 - val_accuracy: 0.3925\n",
            "Epoch 13/100\n",
            "27/27 [==============================] - 23s 847ms/step - loss: 1.1698 - accuracy: 0.6702 - val_loss: 2.2397 - val_accuracy: 0.3505\n",
            "Epoch 14/100\n",
            "27/27 [==============================] - 24s 899ms/step - loss: 1.1139 - accuracy: 0.6736 - val_loss: 2.3817 - val_accuracy: 0.3692\n",
            "Epoch 15/100\n",
            "27/27 [==============================] - 24s 892ms/step - loss: 1.0382 - accuracy: 0.6922 - val_loss: 2.2570 - val_accuracy: 0.3925\n",
            "Epoch 16/100\n",
            "27/27 [==============================] - 23s 848ms/step - loss: 1.1074 - accuracy: 0.6980 - val_loss: 2.3193 - val_accuracy: 0.3785\n",
            "Epoch 17/100\n",
            "27/27 [==============================] - 22s 813ms/step - loss: 1.1158 - accuracy: 0.6934 - val_loss: 2.2949 - val_accuracy: 0.3972\n",
            "Epoch 18/100\n",
            "27/27 [==============================] - 23s 849ms/step - loss: 1.0217 - accuracy: 0.7305 - val_loss: 2.3007 - val_accuracy: 0.3832\n",
            "Epoch 19/100\n",
            "27/27 [==============================] - 23s 852ms/step - loss: 1.0484 - accuracy: 0.7003 - val_loss: 2.3216 - val_accuracy: 0.3879\n",
            "Epoch 20/100\n",
            "27/27 [==============================] - 23s 845ms/step - loss: 1.0712 - accuracy: 0.7120 - val_loss: 2.5091 - val_accuracy: 0.3972\n",
            "Epoch 21/100\n",
            "27/27 [==============================] - 24s 860ms/step - loss: 1.2262 - accuracy: 0.6922 - val_loss: 2.5319 - val_accuracy: 0.3972\n",
            "Epoch 22/100\n",
            "27/27 [==============================] - 22s 835ms/step - loss: 1.4208 - accuracy: 0.6690 - val_loss: 2.9167 - val_accuracy: 0.4065\n",
            "Epoch 23/100\n",
            "27/27 [==============================] - 23s 861ms/step - loss: 1.2722 - accuracy: 0.6922 - val_loss: 2.4553 - val_accuracy: 0.4065\n",
            "Epoch 24/100\n",
            "27/27 [==============================] - 23s 851ms/step - loss: 1.3084 - accuracy: 0.7027 - val_loss: 2.4313 - val_accuracy: 0.4393\n",
            "Epoch 25/100\n",
            "27/27 [==============================] - 23s 849ms/step - loss: 1.1687 - accuracy: 0.7166 - val_loss: 2.5606 - val_accuracy: 0.3925\n",
            "Epoch 26/100\n",
            "27/27 [==============================] - 23s 858ms/step - loss: 1.1743 - accuracy: 0.7062 - val_loss: 2.6522 - val_accuracy: 0.4019\n",
            "Epoch 27/100\n",
            "27/27 [==============================] - 23s 853ms/step - loss: 1.1127 - accuracy: 0.7085 - val_loss: 2.6641 - val_accuracy: 0.3972\n",
            "Epoch 28/100\n",
            "27/27 [==============================] - 23s 860ms/step - loss: 1.1385 - accuracy: 0.6969 - val_loss: 2.6025 - val_accuracy: 0.4065\n",
            "Epoch 29/100\n",
            "27/27 [==============================] - 23s 849ms/step - loss: 1.1320 - accuracy: 0.7154 - val_loss: 2.5924 - val_accuracy: 0.4112\n",
            "Epoch 30/100\n",
            "27/27 [==============================] - 22s 838ms/step - loss: 1.0119 - accuracy: 0.7410 - val_loss: 2.5495 - val_accuracy: 0.4206\n",
            "Epoch 31/100\n",
            "27/27 [==============================] - 24s 897ms/step - loss: 1.1278 - accuracy: 0.7340 - val_loss: 2.7137 - val_accuracy: 0.4019\n",
            "Epoch 32/100\n",
            "27/27 [==============================] - 22s 804ms/step - loss: 1.0276 - accuracy: 0.7422 - val_loss: 2.6794 - val_accuracy: 0.4112\n",
            "Epoch 33/100\n",
            "27/27 [==============================] - 23s 844ms/step - loss: 1.1966 - accuracy: 0.7213 - val_loss: 2.7877 - val_accuracy: 0.3972\n",
            "Epoch 34/100\n",
            "27/27 [==============================] - 23s 833ms/step - loss: 1.1784 - accuracy: 0.7073 - val_loss: 2.5813 - val_accuracy: 0.4346\n",
            "Epoch 35/100\n",
            "27/27 [==============================] - 24s 895ms/step - loss: 1.1572 - accuracy: 0.7224 - val_loss: 2.8564 - val_accuracy: 0.4065\n",
            "Epoch 36/100\n",
            "27/27 [==============================] - 21s 791ms/step - loss: 1.2027 - accuracy: 0.7085 - val_loss: 3.0770 - val_accuracy: 0.3505\n",
            "Epoch 37/100\n",
            "27/27 [==============================] - 23s 829ms/step - loss: 1.1535 - accuracy: 0.7294 - val_loss: 2.8324 - val_accuracy: 0.3925\n",
            "Epoch 38/100\n",
            "27/27 [==============================] - 22s 826ms/step - loss: 1.0255 - accuracy: 0.7515 - val_loss: 2.6822 - val_accuracy: 0.4159\n",
            "Epoch 39/100\n",
            "27/27 [==============================] - 24s 901ms/step - loss: 1.0904 - accuracy: 0.7340 - val_loss: 2.7453 - val_accuracy: 0.4065\n",
            "Epoch 40/100\n",
            "27/27 [==============================] - 22s 808ms/step - loss: 1.0013 - accuracy: 0.7561 - val_loss: 2.6942 - val_accuracy: 0.4019\n",
            "Epoch 41/100\n",
            "27/27 [==============================] - 23s 838ms/step - loss: 0.9916 - accuracy: 0.7445 - val_loss: 2.6916 - val_accuracy: 0.4252\n",
            "Epoch 42/100\n",
            "27/27 [==============================] - 22s 823ms/step - loss: 0.9452 - accuracy: 0.7700 - val_loss: 2.7828 - val_accuracy: 0.4112\n",
            "Epoch 43/100\n",
            "27/27 [==============================] - 21s 795ms/step - loss: 1.0003 - accuracy: 0.7305 - val_loss: 2.7877 - val_accuracy: 0.4019\n",
            "Epoch 44/100\n",
            "27/27 [==============================] - 22s 829ms/step - loss: 1.1024 - accuracy: 0.7445 - val_loss: 2.7811 - val_accuracy: 0.4159\n",
            "Epoch 45/100\n",
            "27/27 [==============================] - 22s 836ms/step - loss: 1.2521 - accuracy: 0.7340 - val_loss: 2.8531 - val_accuracy: 0.4065\n",
            "Epoch 46/100\n",
            "27/27 [==============================] - 22s 839ms/step - loss: 1.1750 - accuracy: 0.7375 - val_loss: 2.9365 - val_accuracy: 0.3832\n",
            "Epoch 47/100\n",
            "27/27 [==============================] - 22s 817ms/step - loss: 1.2300 - accuracy: 0.7247 - val_loss: 3.1156 - val_accuracy: 0.3505\n",
            "Epoch 48/100\n",
            "27/27 [==============================] - 23s 873ms/step - loss: 1.4531 - accuracy: 0.7108 - val_loss: 2.8883 - val_accuracy: 0.3785\n",
            "Epoch 49/100\n",
            "27/27 [==============================] - 22s 819ms/step - loss: 1.2703 - accuracy: 0.7213 - val_loss: 3.1340 - val_accuracy: 0.4299\n",
            "Epoch 50/100\n",
            "27/27 [==============================] - 23s 839ms/step - loss: 1.1988 - accuracy: 0.7410 - val_loss: 3.3419 - val_accuracy: 0.3879\n",
            "Epoch 51/100\n",
            "27/27 [==============================] - 22s 827ms/step - loss: 1.1531 - accuracy: 0.7305 - val_loss: 2.8680 - val_accuracy: 0.4206\n",
            "Epoch 52/100\n",
            "27/27 [==============================] - 21s 779ms/step - loss: 1.2343 - accuracy: 0.7375 - val_loss: 3.0369 - val_accuracy: 0.4019\n",
            "Epoch 53/100\n",
            "27/27 [==============================] - 22s 807ms/step - loss: 1.3000 - accuracy: 0.7456 - val_loss: 3.1380 - val_accuracy: 0.3879\n",
            "Epoch 54/100\n",
            "27/27 [==============================] - 22s 817ms/step - loss: 1.2144 - accuracy: 0.7387 - val_loss: 3.1130 - val_accuracy: 0.4065\n",
            "Epoch 55/100\n",
            "27/27 [==============================] - 21s 783ms/step - loss: 1.0218 - accuracy: 0.7642 - val_loss: 3.1240 - val_accuracy: 0.4065\n",
            "Epoch 56/100\n",
            "27/27 [==============================] - 22s 828ms/step - loss: 1.0322 - accuracy: 0.7654 - val_loss: 3.0296 - val_accuracy: 0.4065\n",
            "Epoch 57/100\n",
            "27/27 [==============================] - 22s 826ms/step - loss: 1.2608 - accuracy: 0.7445 - val_loss: 2.9560 - val_accuracy: 0.4346\n",
            "Epoch 58/100\n",
            "27/27 [==============================] - 21s 790ms/step - loss: 1.0841 - accuracy: 0.7793 - val_loss: 3.3160 - val_accuracy: 0.3738\n",
            "Epoch 59/100\n",
            "27/27 [==============================] - 22s 818ms/step - loss: 1.2065 - accuracy: 0.7515 - val_loss: 3.4224 - val_accuracy: 0.4019\n",
            "Epoch 60/100\n",
            "27/27 [==============================] - 22s 823ms/step - loss: 1.0824 - accuracy: 0.7561 - val_loss: 3.2230 - val_accuracy: 0.4065\n",
            "Epoch 61/100\n",
            "27/27 [==============================] - 22s 814ms/step - loss: 1.8592 - accuracy: 0.6934 - val_loss: 3.4122 - val_accuracy: 0.3785\n",
            "Epoch 62/100\n",
            "27/27 [==============================] - 22s 825ms/step - loss: 1.3116 - accuracy: 0.7201 - val_loss: 3.1883 - val_accuracy: 0.4206\n",
            "Epoch 63/100\n",
            "27/27 [==============================] - 21s 763ms/step - loss: 1.2656 - accuracy: 0.7503 - val_loss: 3.3231 - val_accuracy: 0.4065\n",
            "Epoch 64/100\n",
            "27/27 [==============================] - 22s 809ms/step - loss: 1.2074 - accuracy: 0.7538 - val_loss: 3.5081 - val_accuracy: 0.3738\n",
            "Epoch 65/100\n",
            "27/27 [==============================] - 22s 829ms/step - loss: 1.3139 - accuracy: 0.7247 - val_loss: 3.6619 - val_accuracy: 0.3598\n",
            "Epoch 66/100\n",
            "27/27 [==============================] - 22s 822ms/step - loss: 1.3245 - accuracy: 0.7433 - val_loss: 3.4345 - val_accuracy: 0.4346\n",
            "Epoch 67/100\n",
            "27/27 [==============================] - 22s 827ms/step - loss: 1.3272 - accuracy: 0.7282 - val_loss: 3.4103 - val_accuracy: 0.4019\n",
            "Epoch 68/100\n",
            "27/27 [==============================] - 23s 870ms/step - loss: 1.2161 - accuracy: 0.7422 - val_loss: 3.6617 - val_accuracy: 0.3879\n",
            "Epoch 69/100\n",
            "27/27 [==============================] - 22s 831ms/step - loss: 1.3720 - accuracy: 0.7631 - val_loss: 3.3372 - val_accuracy: 0.3879\n",
            "Epoch 70/100\n",
            "27/27 [==============================] - 22s 812ms/step - loss: 1.3522 - accuracy: 0.7526 - val_loss: 3.3403 - val_accuracy: 0.4065\n",
            "Epoch 71/100\n",
            "27/27 [==============================] - 21s 785ms/step - loss: 1.2005 - accuracy: 0.7549 - val_loss: 3.6745 - val_accuracy: 0.4112\n",
            "Epoch 72/100\n",
            "27/27 [==============================] - 22s 798ms/step - loss: 1.4490 - accuracy: 0.7178 - val_loss: 3.1950 - val_accuracy: 0.4206\n",
            "Epoch 73/100\n",
            "27/27 [==============================] - 22s 803ms/step - loss: 1.1737 - accuracy: 0.7642 - val_loss: 3.4020 - val_accuracy: 0.4019\n",
            "Epoch 74/100\n",
            "27/27 [==============================] - 21s 797ms/step - loss: 1.1563 - accuracy: 0.7538 - val_loss: 3.4063 - val_accuracy: 0.3879\n",
            "Epoch 75/100\n",
            "27/27 [==============================] - 22s 833ms/step - loss: 1.3324 - accuracy: 0.7387 - val_loss: 3.5348 - val_accuracy: 0.3879\n",
            "Epoch 76/100\n",
            "27/27 [==============================] - 22s 828ms/step - loss: 1.0724 - accuracy: 0.7666 - val_loss: 3.2183 - val_accuracy: 0.4065\n",
            "Epoch 77/100\n",
            "27/27 [==============================] - 22s 814ms/step - loss: 1.2812 - accuracy: 0.7642 - val_loss: 3.4178 - val_accuracy: 0.4159\n",
            "Epoch 78/100\n",
            "27/27 [==============================] - 21s 787ms/step - loss: 1.2036 - accuracy: 0.7584 - val_loss: 3.3606 - val_accuracy: 0.4159\n",
            "Epoch 79/100\n",
            "27/27 [==============================] - 22s 818ms/step - loss: 1.3396 - accuracy: 0.7445 - val_loss: 3.9305 - val_accuracy: 0.3925\n",
            "Epoch 80/100\n",
            "27/27 [==============================] - 22s 802ms/step - loss: 1.2163 - accuracy: 0.7503 - val_loss: 3.5947 - val_accuracy: 0.3785\n",
            "Epoch 81/100\n",
            "27/27 [==============================] - 22s 793ms/step - loss: 1.4141 - accuracy: 0.7213 - val_loss: 3.6643 - val_accuracy: 0.3738\n",
            "Epoch 82/100\n",
            "27/27 [==============================] - 22s 828ms/step - loss: 1.3872 - accuracy: 0.7387 - val_loss: 3.5837 - val_accuracy: 0.4019\n",
            "Epoch 83/100\n",
            "27/27 [==============================] - 22s 838ms/step - loss: 1.2602 - accuracy: 0.7677 - val_loss: 3.5316 - val_accuracy: 0.4159\n",
            "Epoch 84/100\n",
            "27/27 [==============================] - 24s 910ms/step - loss: 1.0317 - accuracy: 0.7828 - val_loss: 3.4143 - val_accuracy: 0.4252\n",
            "Epoch 85/100\n",
            "27/27 [==============================] - 22s 811ms/step - loss: 1.2383 - accuracy: 0.7456 - val_loss: 3.6481 - val_accuracy: 0.3925\n",
            "Epoch 86/100\n",
            "27/27 [==============================] - 22s 836ms/step - loss: 1.0774 - accuracy: 0.7666 - val_loss: 3.6253 - val_accuracy: 0.4065\n",
            "Epoch 87/100\n",
            "27/27 [==============================] - 22s 831ms/step - loss: 1.2615 - accuracy: 0.7561 - val_loss: 4.0743 - val_accuracy: 0.4019\n",
            "Epoch 88/100\n",
            "27/27 [==============================] - 23s 849ms/step - loss: 1.2720 - accuracy: 0.7515 - val_loss: 3.5693 - val_accuracy: 0.4252\n",
            "Epoch 89/100\n",
            "27/27 [==============================] - 23s 846ms/step - loss: 1.1134 - accuracy: 0.7735 - val_loss: 3.5891 - val_accuracy: 0.3925\n",
            "Epoch 90/100\n",
            "27/27 [==============================] - 23s 864ms/step - loss: 1.2204 - accuracy: 0.7666 - val_loss: 3.4539 - val_accuracy: 0.4112\n",
            "Epoch 91/100\n",
            "27/27 [==============================] - 24s 873ms/step - loss: 1.2533 - accuracy: 0.7549 - val_loss: 3.7530 - val_accuracy: 0.3925\n",
            "Epoch 92/100\n",
            "27/27 [==============================] - 25s 925ms/step - loss: 1.3164 - accuracy: 0.7549 - val_loss: 3.4229 - val_accuracy: 0.4019\n",
            "Epoch 93/100\n",
            "27/27 [==============================] - 23s 830ms/step - loss: 1.3325 - accuracy: 0.7480 - val_loss: 3.8529 - val_accuracy: 0.3832\n",
            "Epoch 94/100\n",
            "27/27 [==============================] - 23s 845ms/step - loss: 1.3611 - accuracy: 0.7433 - val_loss: 3.8295 - val_accuracy: 0.4159\n",
            "Epoch 95/100\n",
            "27/27 [==============================] - 24s 886ms/step - loss: 1.3019 - accuracy: 0.7526 - val_loss: 3.6454 - val_accuracy: 0.4019\n",
            "Epoch 96/100\n",
            "27/27 [==============================] - 25s 894ms/step - loss: 1.2057 - accuracy: 0.7747 - val_loss: 3.7070 - val_accuracy: 0.4112\n",
            "Epoch 97/100\n",
            "27/27 [==============================] - 26s 979ms/step - loss: 1.3187 - accuracy: 0.7468 - val_loss: 3.8951 - val_accuracy: 0.4159\n",
            "Epoch 98/100\n",
            "27/27 [==============================] - 24s 903ms/step - loss: 1.2071 - accuracy: 0.7712 - val_loss: 3.6547 - val_accuracy: 0.4112\n",
            "Epoch 99/100\n",
            "27/27 [==============================] - 24s 909ms/step - loss: 1.2595 - accuracy: 0.7503 - val_loss: 3.8544 - val_accuracy: 0.4065\n",
            "Epoch 100/100\n",
            "27/27 [==============================] - 24s 883ms/step - loss: 1.1870 - accuracy: 0.7607 - val_loss: 3.8609 - val_accuracy: 0.4159\n"
          ]
        }
      ]
    },
    {
      "cell_type": "code",
      "source": [
        "import matplotlib.pyplot as plt\n",
        "import keras.utils as image\n",
        "import matplotlib\n",
        "from sklearn.metrics import confusion_matrix,ConfusionMatrixDisplay\n",
        "from keras.models import load_model\n",
        "import pandas as pd\n",
        "#editHERE\n",
        "saved_model = load_model(\"indoorplantdiseases.h5\")"
      ],
      "metadata": {
        "id": "B2sxzoKLKoRX"
      },
      "execution_count": 12,
      "outputs": []
    },
    {
      "cell_type": "code",
      "source": [
        "plt.plot(hist.history[\"accuracy\"])\n",
        "plt.plot(hist.history['val_accuracy'])\n",
        "plt.plot(hist.history['loss'])\n",
        "plt.plot(hist.history['val_loss'])\n",
        "plt.title(\"model accuracy\")\n",
        "plt.ylabel(\"Accuracy\")\n",
        "plt.xlabel(\"Epoch\")\n",
        "plt.legend([\"Accuracy\",\"Validation Accuracy\",\"loss\",\"Validation Loss\"])\n",
        "plt.show()"
      ],
      "metadata": {
        "id": "G56zH2d4zia0",
        "colab": {
          "base_uri": "https://localhost:8080/",
          "height": 472
        },
        "outputId": "96c3ec7f-e88c-4d3d-989b-bbb9c7b21313"
      },
      "execution_count": 13,
      "outputs": [
        {
          "output_type": "display_data",
          "data": {
            "text/plain": [
              "<Figure size 640x480 with 1 Axes>"
            ],
            "image/png": "[encoded data removed]"
          },
          "metadata": {}
        }
      ]
    },
    {
      "cell_type": "code",
      "source": [
        "img = image.load_img(\"/content/download (1).jpg\",target_size=(224,224))\n",
        "img = np.asarray(img)\n",
        "plt.imshow(img)\n",
        "img = np.expand_dims(img, axis=0)\n",
        "output = saved_model.predict(img)\n",
        "print(output)\n",
        "print(output[0][np.where(output == (np.argmax(output)))[0]])\n",
        "# if output[0][0] > output[0][1]:\n",
        "#     print(\"cat\")\n",
        "# else:\n",
        "#     print('dog')\n",
        "print(names[np.argmax(output[0])])\n"
      ],
      "metadata": {
        "colab": {
          "base_uri": "https://localhost:8080/",
          "height": 420
        },
        "id": "_zFDp6i8zxN5",
        "outputId": "eb016ca9-86dc-46de-aee8-c3fdce56a5ba"
      },
      "execution_count": 14,
      "outputs": [
        {
          "output_type": "error",
          "ename": "FileNotFoundError",
          "evalue": "ignored",
          "traceback": [
            "\u001b[0;31m---------------------------------------------------------------------------\u001b[0m",
            "\u001b[0;31mFileNotFoundError\u001b[0m                         Traceback (most recent call last)",
            "\u001b[0;32m<ipython-input-14-4dc6c7c43c34>\u001b[0m in \u001b[0;36m<cell line: 1>\u001b[0;34m()\u001b[0m\n\u001b[0;32m----> 1\u001b[0;31m \u001b[0mimg\u001b[0m \u001b[0;34m=\u001b[0m \u001b[0mimage\u001b[0m\u001b[0;34m.\u001b[0m\u001b[0mload_img\u001b[0m\u001b[0;34m(\u001b[0m\u001b[0;34m\"/content/download (1).jpg\"\u001b[0m\u001b[0;34m,\u001b[0m\u001b[0mtarget_size\u001b[0m\u001b[0;34m=\u001b[0m\u001b[0;34m(\u001b[0m\u001b[0;36m224\u001b[0m\u001b[0;34m,\u001b[0m\u001b[0;36m224\u001b[0m\u001b[0;34m)\u001b[0m\u001b[0;34m)\u001b[0m\u001b[0;34m\u001b[0m\u001b[0;34m\u001b[0m\u001b[0m\n\u001b[0m\u001b[1;32m      2\u001b[0m \u001b[0mimg\u001b[0m \u001b[0;34m=\u001b[0m \u001b[0mnp\u001b[0m\u001b[0;34m.\u001b[0m\u001b[0masarray\u001b[0m\u001b[0;34m(\u001b[0m\u001b[0mimg\u001b[0m\u001b[0;34m)\u001b[0m\u001b[0;34m\u001b[0m\u001b[0;34m\u001b[0m\u001b[0m\n\u001b[1;32m      3\u001b[0m \u001b[0mplt\u001b[0m\u001b[0;34m.\u001b[0m\u001b[0mimshow\u001b[0m\u001b[0;34m(\u001b[0m\u001b[0mimg\u001b[0m\u001b[0;34m)\u001b[0m\u001b[0;34m\u001b[0m\u001b[0;34m\u001b[0m\u001b[0m\n\u001b[1;32m      4\u001b[0m \u001b[0mimg\u001b[0m \u001b[0;34m=\u001b[0m \u001b[0mnp\u001b[0m\u001b[0;34m.\u001b[0m\u001b[0mexpand_dims\u001b[0m\u001b[0;34m(\u001b[0m\u001b[0mimg\u001b[0m\u001b[0;34m,\u001b[0m \u001b[0maxis\u001b[0m\u001b[0;34m=\u001b[0m\u001b[0;36m0\u001b[0m\u001b[0;34m)\u001b[0m\u001b[0;34m\u001b[0m\u001b[0;34m\u001b[0m\u001b[0m\n\u001b[1;32m      5\u001b[0m \u001b[0moutput\u001b[0m \u001b[0;34m=\u001b[0m \u001b[0msaved_model\u001b[0m\u001b[0;34m.\u001b[0m\u001b[0mpredict\u001b[0m\u001b[0;34m(\u001b[0m\u001b[0mimg\u001b[0m\u001b[0;34m)\u001b[0m\u001b[0;34m\u001b[0m\u001b[0;34m\u001b[0m\u001b[0m\n",
            "\u001b[0;32m/usr/local/lib/python3.10/dist-packages/keras/utils/image_utils.py\u001b[0m in \u001b[0;36mload_img\u001b[0;34m(path, grayscale, color_mode, target_size, interpolation, keep_aspect_ratio)\u001b[0m\n\u001b[1;32m    420\u001b[0m         \u001b[0;32mif\u001b[0m \u001b[0misinstance\u001b[0m\u001b[0;34m(\u001b[0m\u001b[0mpath\u001b[0m\u001b[0;34m,\u001b[0m \u001b[0mpathlib\u001b[0m\u001b[0;34m.\u001b[0m\u001b[0mPath\u001b[0m\u001b[0;34m)\u001b[0m\u001b[0;34m:\u001b[0m\u001b[0;34m\u001b[0m\u001b[0;34m\u001b[0m\u001b[0m\n\u001b[1;32m    421\u001b[0m             \u001b[0mpath\u001b[0m \u001b[0;34m=\u001b[0m \u001b[0mstr\u001b[0m\u001b[0;34m(\u001b[0m\u001b[0mpath\u001b[0m\u001b[0;34m.\u001b[0m\u001b[0mresolve\u001b[0m\u001b[0;34m(\u001b[0m\u001b[0;34m)\u001b[0m\u001b[0;34m)\u001b[0m\u001b[0;34m\u001b[0m\u001b[0;34m\u001b[0m\u001b[0m\n\u001b[0;32m--> 422\u001b[0;31m         \u001b[0;32mwith\u001b[0m \u001b[0mopen\u001b[0m\u001b[0;34m(\u001b[0m\u001b[0mpath\u001b[0m\u001b[0;34m,\u001b[0m \u001b[0;34m\"rb\"\u001b[0m\u001b[0;34m)\u001b[0m \u001b[0;32mas\u001b[0m \u001b[0mf\u001b[0m\u001b[0;34m:\u001b[0m\u001b[0;34m\u001b[0m\u001b[0;34m\u001b[0m\u001b[0m\n\u001b[0m\u001b[1;32m    423\u001b[0m             \u001b[0mimg\u001b[0m \u001b[0;34m=\u001b[0m \u001b[0mpil_image\u001b[0m\u001b[0;34m.\u001b[0m\u001b[0mopen\u001b[0m\u001b[0;34m(\u001b[0m\u001b[0mio\u001b[0m\u001b[0;34m.\u001b[0m\u001b[0mBytesIO\u001b[0m\u001b[0;34m(\u001b[0m\u001b[0mf\u001b[0m\u001b[0;34m.\u001b[0m\u001b[0mread\u001b[0m\u001b[0;34m(\u001b[0m\u001b[0;34m)\u001b[0m\u001b[0;34m)\u001b[0m\u001b[0;34m)\u001b[0m\u001b[0;34m\u001b[0m\u001b[0;34m\u001b[0m\u001b[0m\n\u001b[1;32m    424\u001b[0m     \u001b[0;32melse\u001b[0m\u001b[0;34m:\u001b[0m\u001b[0;34m\u001b[0m\u001b[0;34m\u001b[0m\u001b[0m\n",
            "\u001b[0;31mFileNotFoundError\u001b[0m: [Errno 2] No such file or directory: '/content/download (1).jpg'"
          ]
        }
      ]
    },
    {
      "cell_type": "code",
      "source": [
        "probabilities = saved_model.predict_generator(generator=testdata)\n",
        "probabilities[1]"
      ],
      "metadata": {
        "id": "Lnie1l_4HaD-"
      },
      "execution_count": null,
      "outputs": []
    },
    {
      "cell_type": "code",
      "source": [
        "test_labels=testdata[0][1]\n",
        "len(test_labels[1])"
      ],
      "metadata": {
        "id": "aecwN-LB9vZK"
      },
      "execution_count": null,
      "outputs": []
    },
    {
      "cell_type": "code",
      "source": [
        "rounded_labels=np.argmax(test_labels, axis=1)\n",
        "rounded_labels[1]\n",
        "rounded_labels\n",
        "# test_labels=pd.get_dummies(test_labels, columns = names)"
      ],
      "metadata": {
        "id": "zWZEbaSwE54d"
      },
      "execution_count": null,
      "outputs": []
    },
    {
      "cell_type": "code",
      "source": [
        "# rounded_predictions = saved_model.predict_classes(test_images, batch_size=128, verbose=0)\n",
        "predictions = (saved_model.predict(testdata) > 0.5).astype(\"int32\")\n",
        "predictions=np.argmax(predictions, axis=1)\n",
        "predictions"
      ],
      "metadata": {
        "id": "oXXBkvf3y_SR"
      },
      "execution_count": null,
      "outputs": []
    },
    {
      "cell_type": "code",
      "source": [
        "cm = confusion_matrix(rounded_labels, predictions[:len(rounded_labels)])\n",
        "cm"
      ],
      "metadata": {
        "id": "pqW3THWGzIRo"
      },
      "execution_count": null,
      "outputs": []
    }
  ]
}